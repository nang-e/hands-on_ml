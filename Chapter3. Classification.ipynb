{
 "cells": [
  {
   "cell_type": "code",
   "execution_count": 44,
   "id": "26c5c657",
   "metadata": {
    "ExecuteTime": {
     "end_time": "2021-09-13T01:45:49.884474Z",
     "start_time": "2021-09-13T01:45:49.880114Z"
    }
   },
   "outputs": [],
   "source": [
    "from sklearn.datasets import fetch_openml\n",
    "import pandas as pd\n",
    "import numpy as np\n",
    "import sklearn"
   ]
  },
  {
   "cell_type": "code",
   "execution_count": 46,
   "id": "f7f55eb2",
   "metadata": {
    "ExecuteTime": {
     "end_time": "2021-09-13T01:46:55.499706Z",
     "start_time": "2021-09-13T01:46:13.095847Z"
    }
   },
   "outputs": [],
   "source": [
    "mnist = fetch_openml('mnist_784', version = 1, as_frame = True)"
   ]
  },
  {
   "cell_type": "code",
   "execution_count": 47,
   "id": "ddc4a509",
   "metadata": {
    "ExecuteTime": {
     "end_time": "2021-09-13T01:46:58.202617Z",
     "start_time": "2021-09-13T01:46:58.186202Z"
    }
   },
   "outputs": [
    {
     "data": {
      "text/plain": [
       "dict_keys(['data', 'target', 'frame', 'categories', 'feature_names', 'target_names', 'DESCR', 'details', 'url'])"
      ]
     },
     "execution_count": 47,
     "metadata": {},
     "output_type": "execute_result"
    }
   ],
   "source": [
    "mnist.keys()"
   ]
  },
  {
   "cell_type": "code",
   "execution_count": 61,
   "id": "7edb5abd",
   "metadata": {
    "ExecuteTime": {
     "end_time": "2021-09-13T01:51:17.338910Z",
     "start_time": "2021-09-13T01:51:17.333744Z"
    }
   },
   "outputs": [],
   "source": [
    "X, y = mnist['data'], mnist['target']"
   ]
  },
  {
   "cell_type": "code",
   "execution_count": 55,
   "id": "b22308a8",
   "metadata": {
    "ExecuteTime": {
     "end_time": "2021-09-13T01:47:53.404580Z",
     "start_time": "2021-09-13T01:47:53.400729Z"
    }
   },
   "outputs": [],
   "source": [
    "import matplotlib as mpl\n",
    "import matplotlib.pyplot as plt"
   ]
  },
  {
   "cell_type": "code",
   "execution_count": 60,
   "id": "90c334be",
   "metadata": {
    "ExecuteTime": {
     "end_time": "2021-09-13T01:49:50.209635Z",
     "start_time": "2021-09-13T01:49:50.135266Z"
    }
   },
   "outputs": [
    {
     "data": {
      "image/png": "[encoded data removed]",
      "text/plain": [
       "<Figure size 432x288 with 1 Axes>"
      ]
     },
     "metadata": {
      "needs_background": "light"
     },
     "output_type": "display_data"
    }
   ],
   "source": [
    "x0_digit = np.array(X.iloc[0,:]).reshape(28,28)\n",
    "plt.imshow(x0_digit, cmap = 'binary')\n",
    "plt.axis('off')\n",
    "plt.show()"
   ]
  },
  {
   "cell_type": "code",
   "execution_count": 64,
   "id": "760cfc26",
   "metadata": {
    "ExecuteTime": {
     "end_time": "2021-09-13T01:51:36.622184Z",
     "start_time": "2021-09-13T01:51:36.615838Z"
    }
   },
   "outputs": [
    {
     "data": {
      "text/plain": [
       "'5'"
      ]
     },
     "execution_count": 64,
     "metadata": {},
     "output_type": "execute_result"
    }
   ],
   "source": [
    "y[0]"
   ]
  },
  {
   "cell_type": "code",
   "execution_count": 77,
   "id": "b0021a4c",
   "metadata": {
    "ExecuteTime": {
     "end_time": "2021-09-13T02:17:09.528653Z",
     "start_time": "2021-09-13T02:17:09.521292Z"
    }
   },
   "outputs": [],
   "source": [
    "y = y.astype(np.uint8)"
   ]
  },
  {
   "cell_type": "code",
   "execution_count": 78,
   "id": "0745df90",
   "metadata": {
    "ExecuteTime": {
     "end_time": "2021-09-13T02:17:11.357436Z",
     "start_time": "2021-09-13T02:17:11.351170Z"
    }
   },
   "outputs": [],
   "source": [
    "x_tr, x_te, y_tr, y_te = X[:60000],X[60000:],y[:60000],y[60000:]"
   ]
  },
  {
   "cell_type": "markdown",
   "id": "a1e46c87",
   "metadata": {
    "ExecuteTime": {
     "end_time": "2021-09-13T02:13:05.874706Z",
     "start_time": "2021-09-13T02:13:05.869175Z"
    }
   },
   "source": [
    "# 이진 분류기<br>\n",
    "## 5-감지기<br>"
   ]
  },
  {
   "cell_type": "code",
   "execution_count": 80,
   "id": "8f471dcc",
   "metadata": {
    "ExecuteTime": {
     "end_time": "2021-09-13T02:17:14.511146Z",
     "start_time": "2021-09-13T02:17:14.505699Z"
    }
   },
   "outputs": [],
   "source": [
    "y_tr5 = (y_tr == 5)\n",
    "y_te5 = (y_te == 5)"
   ]
  },
  {
   "cell_type": "code",
   "execution_count": 82,
   "id": "eb80e3b2",
   "metadata": {
    "ExecuteTime": {
     "end_time": "2021-09-13T02:17:32.180150Z",
     "start_time": "2021-09-13T02:17:19.357356Z"
    }
   },
   "outputs": [
    {
     "data": {
      "text/plain": [
       "SGDClassifier(random_state=131)"
      ]
     },
     "execution_count": 82,
     "metadata": {},
     "output_type": "execute_result"
    }
   ],
   "source": [
    "# sgdclassifier\n",
    "from sklearn.linear_model import SGDClassifier\n",
    "sgd_clf = SGDClassifier(random_state = 131)\n",
    "sgd_clf.fit(x_tr, y_tr5)"
   ]
  },
  {
   "cell_type": "code",
   "execution_count": 90,
   "id": "4d068a28",
   "metadata": {
    "ExecuteTime": {
     "end_time": "2021-09-13T02:19:26.317662Z",
     "start_time": "2021-09-13T02:19:26.307680Z"
    }
   },
   "outputs": [
    {
     "data": {
      "text/plain": [
       "array([ True])"
      ]
     },
     "execution_count": 90,
     "metadata": {},
     "output_type": "execute_result"
    }
   ],
   "source": [
    "sgd_clf.predict(x0_digit.reshape(1,784))"
   ]
  },
  {
   "cell_type": "code",
   "execution_count": 92,
   "id": "e9df8fec",
   "metadata": {
    "ExecuteTime": {
     "end_time": "2021-09-13T02:24:42.970452Z",
     "start_time": "2021-09-13T02:24:41.297576Z"
    }
   },
   "outputs": [
    {
     "data": {
      "text/plain": [
       "array([0.92681464, 0.96129613, 0.96219622])"
      ]
     },
     "execution_count": 92,
     "metadata": {},
     "output_type": "execute_result"
    }
   ],
   "source": [
    "## 성능 평가\n",
    "# 1. 교차검증을 통한 정확도 평가(cross validation-cv, cross_val_score())\n",
    "# => 불균형한 데이터셋을 다룰 때 정확도를 분류기의 성능 측정 지표로 선호하지 않음\n",
    "from sklearn.model_selection import cross_val_score\n",
    "cross_val_score(sgd_clf, x_te, y_te5, cv = 3, scoring = 'accuracy')"
   ]
  },
  {
   "cell_type": "code",
   "execution_count": 94,
   "id": "14fb9fa4",
   "metadata": {
    "ExecuteTime": {
     "end_time": "2021-09-13T02:38:16.817552Z",
     "start_time": "2021-09-13T02:37:56.187532Z"
    }
   },
   "outputs": [
    {
     "data": {
      "text/plain": [
       "array([[53082,  1497],\n",
       "       [ 1383,  4038]])"
      ]
     },
     "execution_count": 94,
     "metadata": {},
     "output_type": "execute_result"
    }
   ],
   "source": [
    "# 2. 오차행렬\n",
    "# => 클래스가 잘못 분류된 횟수를 세는 것\n",
    "from sklearn.model_selection import cross_val_predict\n",
    "y_tr_pr = cross_val_predict(sgd_clf, x_tr, y_tr5, cv = 3)\n",
    "\n",
    "from sklearn.metrics import confusion_matrix\n",
    "confusion_matrix(y_tr5, y_tr_pr)\n",
    "## [53082 , 1497] - 53082: 5이미지 false를 false로 분류(TN), 1497: 5이미지 false를 true로 분류(FN)\n",
    "## [1383, 4038] - 1383: 5이미지 true를 false로 분류(FP), 4038: 5이미지 true를 true로 분류(TP)"
   ]
  }
 ],
 "metadata": {
  "kernelspec": {
   "display_name": "Python 3 (ipykernel)",
   "language": "python",
   "name": "python3"
  },
  "language_info": {
   "codemirror_mode": {
    "name": "ipython",
    "version": 3
   },
   "file_extension": ".py",
   "mimetype": "text/x-python",
   "name": "python",
   "nbconvert_exporter": "python",
   "pygments_lexer": "ipython3",
   "version": "3.9.6"
  },
  "toc": {
   "base_numbering": 1,
   "nav_menu": {},
   "number_sections": true,
   "sideBar": true,
   "skip_h1_title": false,
   "title_cell": "Table of Contents",
   "title_sidebar": "Contents",
   "toc_cell": false,
   "toc_position": {},
   "toc_section_display": true,
   "toc_window_display": false
  },
  "varInspector": {
   "cols": {
    "lenName": 16,
    "lenType": 16,
    "lenVar": 40
   },
   "kernels_config": {
    "python": {
     "delete_cmd_postfix": "",
     "delete_cmd_prefix": "del ",
     "library": "var_list.py",
     "varRefreshCmd": "print(var_dic_list())"
    },
    "r": {
     "delete_cmd_postfix": ") ",
     "delete_cmd_prefix": "rm(",
     "library": "var_list.r",
     "varRefreshCmd": "cat(var_dic_list()) "
    }
   },
   "types_to_exclude": [
    "module",
    "function",
    "builtin_function_or_method",
    "instance",
    "_Feature"
   ],
   "window_display": false
  }
 },
 "nbformat": 4,
 "nbformat_minor": 5
}
